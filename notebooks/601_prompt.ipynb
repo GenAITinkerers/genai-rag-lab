{
 "cells": [
  {
   "cell_type": "code",
   "execution_count": 1,
   "id": "de8dd001",
   "metadata": {},
   "outputs": [],
   "source": [
    "# runtime/prompt.py\n",
    "def build_context_from_docs(docs, max_chars=3000):\n",
    "    \"\"\"\n",
    "    Join top-k docs into a single context string limited to max_chars.\n",
    "    Keeps a small source header for traceability.\n",
    "    \"\"\"\n",
    "    parts = []\n",
    "    for d in docs:\n",
    "        meta = getattr(d, \"metadata\", {}) or {}\n",
    "        src = meta.get(\"source\") or meta.get(\"doc_id\") or \"unknown\"\n",
    "        header = f\"--- Source: {src} ---\"\n",
    "        content = d.page_content if hasattr(d, \"page_content\") else (d.content if hasattr(d, \"content\") else str(d))\n",
    "        parts.append(f\"{header}\\n{content}\")\n",
    "    context = \"\\n\\n\".join(parts)\n",
    "    if len(context) > max_chars:\n",
    "        context = context[:max_chars] + \"\\n\\n...[truncated]\"\n",
    "    return context\n",
    "\n",
    "BASE_PROMPT = \"\"\"You are a helpful assistant. Use the following context to answer the question.\n",
    "If the context does not contain the answer, say \"I don't know\".\n",
    "\n",
    "Context:\n",
    "{context}\n",
    "\n",
    "Question:\n",
    "{question}\n",
    "\n",
    "Answer:\n",
    "\"\"\"\n",
    "\n",
    "def build_prompt(docs, question):\n",
    "    ctx = build_context_from_docs(docs)\n",
    "    return BASE_PROMPT.format(context=ctx, question=question)\n",
    "\n",
    "\n"
   ]
  },
  {
   "cell_type": "code",
   "execution_count": 2,
   "id": "39cbc41d",
   "metadata": {},
   "outputs": [
    {
     "name": "stdout",
     "output_type": "stream",
     "text": [
      "promt: \n",
      " You are a helpful assistant. Use the following context to answer the question.\n",
      "If the context does not contain the answer, say \"I don't know\".\n",
      "\n",
      "Context:\n",
      "--- Source: doc1.txt ---\n",
      "This is the content of document one.\n",
      "\n",
      "--- Source: doc2.txt ---\n",
      "This is the content of document two.\n",
      "\n",
      "Question:\n",
      "What is the content of document one?\n",
      "\n",
      "Answer:\n",
      "\n"
     ]
    }
   ],
   "source": [
    "if __name__ == \"__main__\":\n",
    "    from langchain_core.documents import Document\n",
    "    sample_docs = [\n",
    "        Document(page_content=\"This is the content of document one.\", metadata={\"source\": \"doc1.txt\"}),\n",
    "        Document(page_content=\"This is the content of document two.\", metadata={\"source\": \"doc2.txt\"}),\n",
    "    ]\n",
    "    question = \"What is the content of document one?\"\n",
    "    prompt = build_prompt(sample_docs, question)\n",
    "    print(\"promt: \\n\", prompt)"
   ]
  },
  {
   "cell_type": "code",
   "execution_count": null,
   "id": "357ed03b",
   "metadata": {},
   "outputs": [],
   "source": []
  }
 ],
 "metadata": {
  "kernelspec": {
   "display_name": ".venv",
   "language": "python",
   "name": "python3"
  },
  "language_info": {
   "codemirror_mode": {
    "name": "ipython",
    "version": 3
   },
   "file_extension": ".py",
   "mimetype": "text/x-python",
   "name": "python",
   "nbconvert_exporter": "python",
   "pygments_lexer": "ipython3",
   "version": "3.12.10"
  }
 },
 "nbformat": 4,
 "nbformat_minor": 5
}
