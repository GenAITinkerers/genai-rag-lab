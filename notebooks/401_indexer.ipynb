{
 "cells": [
  {
   "cell_type": "code",
   "execution_count": 2,
   "id": "884d5707",
   "metadata": {},
   "outputs": [],
   "source": [
    "# ingest/indexer.py\n",
    "import os\n",
    "from langchain_community.vectorstores import Chroma\n",
    "from typing import List\n",
    "from langchain_core.documents import Document\n",
    "\n",
    "def build_and_persist_vectorstore(chunks: List[Document], embedding_function, persist_directory: str, collection_name: str):\n",
    "    \"\"\"\n",
    "    Create Chroma vectorstore from chunked documents and persist to disk.\n",
    "    \"\"\"\n",
    "    # simple safety check\n",
    "    if not chunks:\n",
    "        raise ValueError(\"No chunks to index.\")\n",
    "\n",
    "    # build Chroma from documents\n",
    "    vectordb = Chroma.from_documents(\n",
    "        documents=chunks,\n",
    "        embedding=embedding_function,\n",
    "        persist_directory=persist_directory,\n",
    "        collection_name=collection_name\n",
    "    )\n",
    "    vectordb.persist()\n",
    "    return vectordb\n",
    "\n"
   ]
  },
  {
   "cell_type": "code",
   "execution_count": 4,
   "id": "22f782a8",
   "metadata": {},
   "outputs": [],
   "source": [
    "import sys\n",
    "sys.path.append(\"..\")"
   ]
  },
  {
   "cell_type": "code",
   "execution_count": 5,
   "id": "4299db98",
   "metadata": {},
   "outputs": [
    {
     "name": "stderr",
     "output_type": "stream",
     "text": [
      "/Users/I325907/Desktop/AIML/GenAI/genai-rag-lab/.venv/lib/python3.12/site-packages/tqdm/auto.py:21: TqdmWarning: IProgress not found. Please update jupyter and ipywidgets. See https://ipywidgets.readthedocs.io/en/stable/user_install.html\n",
      "  from .autonotebook import tqdm as notebook_tqdm\n",
      "Ignoring wrong pointing object 6 0 (offset 0)\n",
      "Ignoring wrong pointing object 8 0 (offset 0)\n",
      "Ignoring wrong pointing object 10 0 (offset 0)\n",
      "Ignoring wrong pointing object 13 0 (offset 0)\n",
      "Ignoring wrong pointing object 15 0 (offset 0)\n",
      "Ignoring wrong pointing object 17 0 (offset 0)\n",
      "Ignoring wrong pointing object 45 0 (offset 0)\n",
      "Ignoring wrong pointing object 47 0 (offset 0)\n",
      "/Users/I325907/Desktop/AIML/GenAI/genai-rag-lab/notebooks/../ingest/embedder.py:10: LangChainDeprecationWarning: The class `HuggingFaceEmbeddings` was deprecated in LangChain 0.2.2 and will be removed in 1.0. An updated version of the class exists in the `langchain-huggingface package and should be used instead. To use it run `pip install -U `langchain-huggingface` and import as `from `langchain_huggingface import HuggingFaceEmbeddings``.\n",
      "  emb = SentenceTransformerEmbeddings(model_name=model_name)\n"
     ]
    }
   ],
   "source": [
    "\n",
    "    from ingest.loader import load_documents\n",
    "    from ingest.chunker import chunk_documents\n",
    "    from ingest.embedder import get_embeddings\n",
    "\n",
    "    # Load and chunk documents\n",
    "    documents = load_documents()\n",
    "    chunked_docs = chunk_documents(documents)\n",
    "\n",
    "    # Get embedding model\n",
    "    embedding_model = get_embeddings()"
   ]
  },
  {
   "cell_type": "code",
   "execution_count": 6,
   "id": "a48e4824",
   "metadata": {},
   "outputs": [
    {
     "name": "stdout",
     "output_type": "stream",
     "text": [
      "Vectorstore built and persisted.\n"
     ]
    },
    {
     "name": "stderr",
     "output_type": "stream",
     "text": [
      "/var/folders/8f/y7wfy0tj7mb_5ppmq8jdkg9h0000gn/T/ipykernel_46017/2084955860.py:22: LangChainDeprecationWarning: Since Chroma 0.4.x the manual persistence method is no longer supported as docs are automatically persisted.\n",
      "  vectordb.persist()\n"
     ]
    }
   ],
   "source": [
    "    # Build and persist vectorstore\n",
    "    vectordb = build_and_persist_vectorstore(\n",
    "        chunks=chunked_docs,\n",
    "        embedding_function=embedding_model,\n",
    "        persist_directory=os.getenv(\"PERSIST_DIRECTORY\"),\n",
    "        collection_name=\"my_collection\"\n",
    "    )\n",
    "    print(\"Vectorstore built and persisted.\")"
   ]
  },
  {
   "cell_type": "code",
   "execution_count": null,
   "id": "f170e344",
   "metadata": {},
   "outputs": [],
   "source": []
  }
 ],
 "metadata": {
  "kernelspec": {
   "display_name": ".venv",
   "language": "python",
   "name": "python3"
  },
  "language_info": {
   "codemirror_mode": {
    "name": "ipython",
    "version": 3
   },
   "file_extension": ".py",
   "mimetype": "text/x-python",
   "name": "python",
   "nbconvert_exporter": "python",
   "pygments_lexer": "ipython3",
   "version": "3.12.10"
  }
 },
 "nbformat": 4,
 "nbformat_minor": 5
}
