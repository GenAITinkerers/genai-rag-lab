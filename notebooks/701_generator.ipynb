{
 "cells": [
  {
   "cell_type": "code",
   "execution_count": null,
   "id": "52f2dff3",
   "metadata": {},
   "outputs": [],
   "source": [
    "import os\n",
    "from langchain_huggingface import ChatHuggingFace, HuggingFaceEndpoint\n",
    "from dotenv import load_dotenv\n",
    "\n",
    "load_dotenv()\n",
    "\n",
    "LLM_PROVIDER=os.getenv(\"LLM_PROVIDER\",\"huggingface\")\n",
    "HF_MODEL = os.getenv(\"HF_MODEL\", \"HuggingFaceH4/zephyr-7b-beta\")\n",
    "HF_TASK = os.getenv(\"HF_TASK\", \"text-generation\")\n",
    "HF_MAX_NEW_TOKENS = int(os.getenv(\"HF_MAX_NEW_TOKENS\", \"256\"))\n",
    "\n",
    "def generate_with_huggingface(prompt: str, max_tokens: int = None, temperature: float = 0.2):\n",
    "    endpoint = HuggingFaceEndpoint(\n",
    "        repo_id=HF_MODEL,\n",
    "        task=HF_TASK,\n",
    "        max_new_tokens=max_tokens or HF_MAX_NEW_TOKENS,\n",
    "        temperature=temperature\n",
    "    )\n",
    "    model = ChatHuggingFace(llm=endpoint)\n",
    "    result = model.invoke(prompt)\n",
    "    return result.content\n",
    "\n",
    "def generate_fallback(prompt: str):\n",
    "    try:\n",
    "        ctx = prompt.split(\"Context:\")[1].split(\"Question:\")[0].strip()\n",
    "        excerpt = ctx[:1500]\n",
    "        return \"Grounded excerpt from retrieved docs:\\n\\n\" + excerpt + (\"\\n\\n...[truncated]\" if len(ctx) > 1500 else \"\")\n",
    "    except Exception:\n",
    "        return \"Could not generate a fallback answer.\"\n",
    "    \n",
    "def generate(prompt: str, **kwargs):\n",
    "    if LLM_PROVIDER.lower() == \"huggingface\":\n",
    "        print(f\"LLM_PROVIDER is set to '{LLM_PROVIDER}'. Using HuggingFace model.\")\n",
    "        return generate_with_huggingface(prompt, **kwargs)\n",
    "    else:\n",
    "        return generate_fallback(prompt)\n"
   ]
  },
  {
   "cell_type": "code",
   "execution_count": 4,
   "id": "fce18cac",
   "metadata": {},
   "outputs": [
    {
     "name": "stdout",
     "output_type": "stream",
     "text": [
      "Generated answer:\n",
      " Grounded excerpt from retrieved docs:\n",
      "\n",
      "--- Source: doc1.txt ---\n",
      "This is the content of document one.            \n",
      "--- Source: doc2.txt ---\n",
      "This is the content of document two.\n"
     ]
    }
   ],
   "source": [
    "\n",
    "    sample_prompt = \"\"\"You are a helpful assistant. Use the following context to answer the question.\n",
    "    If the context does not contain the answer, say \"I don't know\".\n",
    "    Context:\n",
    "    --- Source: doc1.txt ---\n",
    "    This is the content of document one.            \n",
    "    --- Source: doc2.txt ---\n",
    "    This is the content of document two.\n",
    "    Question:\n",
    "    What is the content of document one?\n",
    "    Answer:\n",
    "    \"\"\"\n",
    "    answer = generate(sample_prompt, max_tokens=100)\n",
    "    print(\"Generated answer:\\n\", answer)"
   ]
  },
  {
   "cell_type": "code",
   "execution_count": null,
   "id": "fdcbbdbc",
   "metadata": {},
   "outputs": [],
   "source": []
  }
 ],
 "metadata": {
  "kernelspec": {
   "display_name": ".venv",
   "language": "python",
   "name": "python3"
  },
  "language_info": {
   "codemirror_mode": {
    "name": "ipython",
    "version": 3
   },
   "file_extension": ".py",
   "mimetype": "text/x-python",
   "name": "python",
   "nbconvert_exporter": "python",
   "pygments_lexer": "ipython3",
   "version": "3.12.10"
  }
 },
 "nbformat": 4,
 "nbformat_minor": 5
}
