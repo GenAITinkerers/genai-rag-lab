{
 "cells": [
  {
   "cell_type": "code",
   "execution_count": 1,
   "id": "4b469614",
   "metadata": {},
   "outputs": [],
   "source": [
    "# runtime/retriever.py\n",
    "from langchain_community.vectorstores import Chroma\n",
    "from langchain_community.embeddings import SentenceTransformerEmbeddings\n",
    "import os\n",
    "\n",
    "def load_vectorstore(persist_directory: str, collection_name: str, model_name: str = None):\n",
    "    \"\"\"\n",
    "    Load existing Chroma vectorstore from disk. Returns Chroma instance or None.\n",
    "    \"\"\"\n",
    "    model_name = model_name or os.getenv(\"EMBED_MODEL\", \"all-MiniLM-L6-v2\")\n",
    "    emb = SentenceTransformerEmbeddings(model_name=model_name)\n",
    "    if not os.path.exists(persist_directory) or not any(os.scandir(persist_directory)):\n",
    "        return None\n",
    "    return Chroma(persist_directory=persist_directory, embedding_function=emb, collection_name=collection_name)\n",
    "\n",
    "def retrieve(query: str, vectordb, k: int = 3):\n",
    "    \"\"\"\n",
    "    Simple semantic search wrapper.\n",
    "    Returns list of Documents (langchain schema objects).\n",
    "    \"\"\"\n",
    "    if vectordb is None:\n",
    "        return []\n",
    "    docs = vectordb.similarity_search(query, k=k)\n",
    "    return docs\n",
    "\n"
   ]
  },
  {
   "cell_type": "code",
   "execution_count": null,
   "id": "b4225a77",
   "metadata": {},
   "outputs": [
    {
     "name": "stderr",
     "output_type": "stream",
     "text": [
      "/var/folders/8f/y7wfy0tj7mb_5ppmq8jdkg9h0000gn/T/ipykernel_78137/2526389373.py:11: LangChainDeprecationWarning: The class `HuggingFaceEmbeddings` was deprecated in LangChain 0.2.2 and will be removed in 1.0. An updated version of the class exists in the `langchain-huggingface package and should be used instead. To use it run `pip install -U `langchain-huggingface` and import as `from `langchain_huggingface import HuggingFaceEmbeddings``.\n",
      "  emb = SentenceTransformerEmbeddings(model_name=model_name)\n",
      "/Users/I325907/Desktop/AIML/GenAI/genai-rag-lab/.venv/lib/python3.12/site-packages/tqdm/auto.py:21: TqdmWarning: IProgress not found. Please update jupyter and ipywidgets. See https://ipywidgets.readthedocs.io/en/stable/user_install.html\n",
      "  from .autonotebook import tqdm as notebook_tqdm\n",
      "/var/folders/8f/y7wfy0tj7mb_5ppmq8jdkg9h0000gn/T/ipykernel_78137/2526389373.py:14: LangChainDeprecationWarning: The class `Chroma` was deprecated in LangChain 0.2.9 and will be removed in 1.0. An updated version of the class exists in the `langchain-chroma package and should be used instead. To use it run `pip install -U `langchain-chroma` and import as `from `langchain_chroma import Chroma``.\n",
      "  return Chroma(persist_directory=persist_directory, embedding_function=emb, collection_name=collection_name)\n"
     ]
    },
    {
     "name": "stdout",
     "output_type": "stream",
     "text": [
      "Retrieved 2 documents for query: 'Sample query text'\n"
     ]
    }
   ],
   "source": [
    "if __name__ == \"__main__\":\n",
    "    persist_dir = os.getenv(\"PERSIST_DIRECTORY\", \"vectorstore\")\n",
    "    collection_name = \"my_collection\"\n",
    "    # Load vectorstore\n",
    "    loaded_vectordb = load_vectorstore(persist_directory=persist_dir, collection_name=collection_name)\n",
    "\n",
    "    # Test retrieval\n",
    "    query = \"Sample query text\"\n",
    "    results = retrieve(query, loaded_vectordb, k=5)\n",
    "    print(f\"Retrieved {len(results)} documents for query: '{query}'\")"
   ]
  },
  {
   "cell_type": "code",
   "execution_count": 3,
   "id": "b51651ea",
   "metadata": {},
   "outputs": [
    {
     "data": {
      "text/plain": [
       "[Document(metadata={'page': 0, 'producer': 'Microsoft® Word for Microsoft 365', 'page_label': '1', 'total_pages': 2, 'source': '/Users/I325907/Desktop/AIML/GenAI/genai-rag-lab/data/Rajesh_B_Resume-AI-ML.pdf', 'creationdate': '2025-04-18T07:25:31+00:00', 'creator': 'Microsoft® Word for Microsoft 365', 'moddate': '2025-04-18T07:25:31+00:00'}, page_content='commitment to continuous learning, ethical AI development, and impactful \\ninnovation. \\n CAREER TIMELINE \\n \\n \\n WORK EXPERIENCE  \\nVantiva India Pvt Ltd. | Staff Engineer | 01/2024 – Present  \\n \\nKey Result Areas:  \\n− AI-Driven Code Generation Tool: Designed and implemented an internal solution to \\nautomate code creation, reducing development time. \\n− Test Case Generation Tool: Built an AI-powered tool for precise and efficient test case \\ncreation, improving software testing and productivity. \\n− Bug Similarity Detection: Developed a Generative AI tool that identifies duplicate bugs, \\nreducing test execution time by 30% and streamlining Jira ticket tracking for faster \\nissue resolution. \\n− Q&A Chatbot for Log Analysis: Trained an AI chatbot on log data to automate analysis, \\nminimizing manual effort and boosting efficiency. \\n− AI-Powered Document Insights: Created a Generative AI tool enabling interactive \\nretrieval of insights from domain -specific documents, presentations, and'),\n",
       " Document(metadata={'producer': 'Skia/PDF m139 Google Docs Renderer', 'page': 1, 'title': 'deekshitulu_resume1.docx', 'source': '/Users/I325907/Desktop/AIML/GenAI/genai-rag-lab/data/deekshitulu_resume.pdf', 'creationdate': '', 'page_label': '2', 'creator': 'PyPDF', 'total_pages': 2}, page_content='➢  Engineered  the  client-side  design  and  coding,  to  handle  audio  data  streaming,  API  \\nintegration\\n \\nwith\\n \\nAI\\n \\nservices,\\n \\nand\\n \\ndynamic\\n \\nUI\\n \\nupdates\\n \\nfor\\n \\ntranscription\\n \\nand\\n \\nsummarization\\n \\nresults.\\n ●  Enriched  Calling  /  Rich  Call  Data  (RCD)  (2019  –  Present)  ➢  Led  the  cross-package  implementation  (Dialer,  Telecom,  Telephony)  of  RCD,  which  displays  \\ncaller\\n \\nphotos\\n \\nand\\n \\ncall\\n \\nreasons\\n \\nduring\\n \\nincoming\\n \\ncalls.\\n ➢  Implemented  the  solution  that  includes  data  retrieval  from  SIP  parameters,performing  GBA  \\nauthentication\\n \\nand\\n \\nUI\\n \\ndesign\\n \\nfor\\n \\ndisplaying\\n \\nthe\\n \\nnew\\n \\ndata.\\n ●  Real  Time  Text  (RTT)  (2018  -  Present)  ➢  RTT  provides  to  send,  receive  and  manage  text  info  during  an  active  voice  call.  ➢  Led  the  implementation  of  RTT,  a  mandatory  US  accessibility  feature,  ensuring  compliance  \\nwith\\n \\nregulatory\\n \\nand\\n \\ncarrier\\n \\nspecifications.')]"
      ]
     },
     "execution_count": 3,
     "metadata": {},
     "output_type": "execute_result"
    }
   ],
   "source": [
    "results"
   ]
  },
  {
   "cell_type": "code",
   "execution_count": 4,
   "id": "5ef7d766",
   "metadata": {},
   "outputs": [
    {
     "name": "stdout",
     "output_type": "stream",
     "text": [
      "Retrieved 5 documents for query: 'Sample query text'\n"
     ]
    }
   ],
   "source": [
    "    # Test retrieval\n",
    "    query = \"Sample query text\"\n",
    "    results = retrieve(query, loaded_vectordb, k=5)\n",
    "    print(f\"Retrieved {len(results)} documents for query: '{query}'\")"
   ]
  },
  {
   "cell_type": "code",
   "execution_count": 5,
   "id": "a3235fa4",
   "metadata": {},
   "outputs": [
    {
     "data": {
      "text/plain": [
       "[Document(metadata={'producer': 'Microsoft® Word for Microsoft 365', 'creator': 'Microsoft® Word for Microsoft 365', 'moddate': '2025-04-18T07:25:31+00:00', 'creationdate': '2025-04-18T07:25:31+00:00', 'total_pages': 2, 'page': 0, 'source': '/Users/I325907/Desktop/AIML/GenAI/genai-rag-lab/data/Rajesh_B_Resume-AI-ML.pdf', 'page_label': '1'}, page_content='commitment to continuous learning, ethical AI development, and impactful \\ninnovation. \\n CAREER TIMELINE \\n \\n \\n WORK EXPERIENCE  \\nVantiva India Pvt Ltd. | Staff Engineer | 01/2024 – Present  \\n \\nKey Result Areas:  \\n− AI-Driven Code Generation Tool: Designed and implemented an internal solution to \\nautomate code creation, reducing development time. \\n− Test Case Generation Tool: Built an AI-powered tool for precise and efficient test case \\ncreation, improving software testing and productivity. \\n− Bug Similarity Detection: Developed a Generative AI tool that identifies duplicate bugs, \\nreducing test execution time by 30% and streamlining Jira ticket tracking for faster \\nissue resolution. \\n− Q&A Chatbot for Log Analysis: Trained an AI chatbot on log data to automate analysis, \\nminimizing manual effort and boosting efficiency. \\n− AI-Powered Document Insights: Created a Generative AI tool enabling interactive \\nretrieval of insights from domain -specific documents, presentations, and'),\n",
       " Document(metadata={'total_pages': 2, 'creator': 'PyPDF', 'source': '/Users/I325907/Desktop/AIML/GenAI/genai-rag-lab/data/deekshitulu_resume.pdf', 'title': 'deekshitulu_resume1.docx', 'page_label': '2', 'producer': 'Skia/PDF m139 Google Docs Renderer', 'creationdate': '', 'page': 1}, page_content='➢  Engineered  the  client-side  design  and  coding,  to  handle  audio  data  streaming,  API  \\nintegration\\n \\nwith\\n \\nAI\\n \\nservices,\\n \\nand\\n \\ndynamic\\n \\nUI\\n \\nupdates\\n \\nfor\\n \\ntranscription\\n \\nand\\n \\nsummarization\\n \\nresults.\\n ●  Enriched  Calling  /  Rich  Call  Data  (RCD)  (2019  –  Present)  ➢  Led  the  cross-package  implementation  (Dialer,  Telecom,  Telephony)  of  RCD,  which  displays  \\ncaller\\n \\nphotos\\n \\nand\\n \\ncall\\n \\nreasons\\n \\nduring\\n \\nincoming\\n \\ncalls.\\n ➢  Implemented  the  solution  that  includes  data  retrieval  from  SIP  parameters,performing  GBA  \\nauthentication\\n \\nand\\n \\nUI\\n \\ndesign\\n \\nfor\\n \\ndisplaying\\n \\nthe\\n \\nnew\\n \\ndata.\\n ●  Real  Time  Text  (RTT)  (2018  -  Present)  ➢  RTT  provides  to  send,  receive  and  manage  text  info  during  an  active  voice  call.  ➢  Led  the  implementation  of  RTT,  a  mandatory  US  accessibility  feature,  ensuring  compliance  \\nwith\\n \\nregulatory\\n \\nand\\n \\ncarrier\\n \\nspecifications.'),\n",
       " Document(metadata={'total_pages': 3, 'author': 'python-docx', 'page_label': '1', 'creator': 'Writer', 'page': 0, 'producer': 'LibreOffice 7.3', 'source': '/Users/I325907/Desktop/AIML/GenAI/genai-rag-lab/data/Shantanu_Mahapatra_Resume_Updated..pdf', 'creationdate': '2025-07-04T11:37:45+05:30'}, page_content='of medicines, vaccines, and innovative therapeutic solutions, including over-the-counter drugs across seven \\nmajor areas: thrombosis, cardiovascular disease, diabetes, central nervous system disorders, oncology, internal\\nmedicine, and vaccines.\\nResponsibilities:\\n\\uf0b7 Leading end-to-end development of machine learning models focused on business process automation, \\npredictive analytics, and NLP-driven insights.\\n\\uf0b7 Built and deployed deep learning models for sentiment analysis, text classification, and named entity \\nrecognition using Transformers (BERT, RoBERTa).\\n\\uf0b7 Designed and implemented scalable data pipelines using Pandas, Dask, and Spark to handle real-time data \\ningestion and processing.\\n\\uf0b7 Collaborated with cross-functional teams at Capgemini including Product, Engineering, and Business Units \\nto scope and deliver impactful ML features.\\n\\uf0b7 Performed root cause analysis and data exploration using SQL and visualization tools (Seaborn, Plotly) to'),\n",
       " Document(metadata={'creator': 'Microsoft® Word for Microsoft 365', 'source': '/Users/I325907/Desktop/AIML/GenAI/genai-rag-lab/data/Rajesh_B_Resume-AI-ML.pdf', 'page': 1, 'creationdate': '2025-04-18T07:25:31+00:00', 'producer': 'Microsoft® Word for Microsoft 365', 'page_label': '2', 'moddate': '2025-04-18T07:25:31+00:00', 'total_pages': 2}, page_content='TECHNICAL SKILLS \\n \\n− Generative AI \\n− Power BI \\n− Tableau \\n− AI Agents \\n− Vector databases \\n− Software testing \\n \\n EDUCATION \\n \\n− 2004: B.Tech. in Electronics & Instrumentation, Madras \\nUniversity \\n− 2023: M .Tech. in Data Science and Machine Learning  \\n− PES University, Great Learning  \\n− 2011: M.Tech. in Information Technology, Karnataka \\nUniversity \\n \\n \\n      PERSONAL DETAILS \\n \\n− Languages Known: English, Tamil, Telugu and Kannada \\n− Address: Bangalore,Karnataka'),\n",
       " Document(metadata={'page': 0, 'total_pages': 3, 'source': '/Users/I325907/Desktop/AIML/GenAI/genai-rag-lab/data/Shantanu_Mahapatra_Resume_Updated..pdf', 'creationdate': '2025-07-04T11:37:45+05:30', 'creator': 'Writer', 'author': 'python-docx', 'producer': 'LibreOffice 7.3', 'page_label': '1'}, page_content='to scope and deliver impactful ML features.\\n\\uf0b7 Performed root cause analysis and data exploration using SQL and visualization tools (Seaborn, Plotly) to \\nuncover actionable insights and drive hypothesis validation.\\n\\uf0b7 Conducted A/B testing and model performance evaluations to continuously improve system accuracy and \\nreduce customer experience defects.\\n\\uf0b7 Delivered customer-facing solutions by integrating models into APIs using FastAPI and deploying with \\nDocker for production environments.\\nProject Name: Supply Chain Optimization Solution\\nClient Name: Global Conglomerate (Manufacturing, Global Operations)\\nProject Overview: The project enhances a global conglomerate’s supply chain and warehouse efficiency by \\naddressing demand mismanagement and inventory value loss. Implemented by Capgemini and Google Cloud, it\\nfeatures two components:\\n1. Generative AI Chatbot:  \\n2. Forecast Engine:  \\nRoles and Responsibilities in ML/Data:')]"
      ]
     },
     "execution_count": 5,
     "metadata": {},
     "output_type": "execute_result"
    }
   ],
   "source": [
    "results"
   ]
  },
  {
   "cell_type": "code",
   "execution_count": null,
   "id": "92cc4332",
   "metadata": {},
   "outputs": [],
   "source": []
  }
 ],
 "metadata": {
  "kernelspec": {
   "display_name": ".venv",
   "language": "python",
   "name": "python3"
  },
  "language_info": {
   "codemirror_mode": {
    "name": "ipython",
    "version": 3
   },
   "file_extension": ".py",
   "mimetype": "text/x-python",
   "name": "python",
   "nbconvert_exporter": "python",
   "pygments_lexer": "ipython3",
   "version": "3.12.10"
  }
 },
 "nbformat": 4,
 "nbformat_minor": 5
}
